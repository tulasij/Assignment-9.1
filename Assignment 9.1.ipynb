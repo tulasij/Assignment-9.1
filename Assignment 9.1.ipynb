{
 "cells": [
  {
   "cell_type": "code",
   "execution_count": 86,
   "metadata": {},
   "outputs": [
    {
     "data": {
      "text/plain": [
       "0    1.0\n",
       "1    2.0\n",
       "2    0.0\n",
       "3    1.0\n",
       "4    2.0\n",
       "5    3.0\n",
       "6    4.0\n",
       "7    0.0\n",
       "8    1.0\n",
       "9    2.0\n",
       "Name: Y, dtype: float64"
      ]
     },
     "execution_count": 86,
     "metadata": {},
     "output_type": "execute_result"
    }
   ],
   "source": [
    "# 1\n",
    "\n",
    "import pandas as pd\n",
    "df = pd.DataFrame({'X': [7, 2, 0, 3, 4, 2, 5, 0, 3, 4]})\n",
    "x = (df['X'] != 0).cumsum()\n",
    "y = x != x.shift()\n",
    "df['Y'] = y.groupby((y != y.shift()).cumsum()).cumsum()\n",
    "\n",
    "df['Y']"
   ]
  },
  {
   "cell_type": "code",
   "execution_count": 87,
   "metadata": {},
   "outputs": [
    {
     "data": {
      "text/plain": [
       "2015-01-01    0.778347\n",
       "2015-01-02    0.013763\n",
       "2015-01-05    0.365950\n",
       "2015-01-06    0.448575\n",
       "2015-01-07    0.156145\n",
       "2015-01-08    0.500576\n",
       "2015-01-09    0.861391\n",
       "2015-01-12    0.957327\n",
       "2015-01-13    0.606483\n",
       "2015-01-14    0.772362\n",
       "2015-01-15    0.117411\n",
       "2015-01-16    0.993016\n",
       "2015-01-19    0.821270\n",
       "2015-01-20    0.833325\n",
       "2015-01-21    0.401077\n",
       "2015-01-22    0.554586\n",
       "2015-01-23    0.332120\n",
       "2015-01-26    0.899093\n",
       "2015-01-27    0.655219\n",
       "2015-01-28    0.291701\n",
       "2015-01-29    0.145326\n",
       "2015-01-30    0.740643\n",
       "2015-02-02    0.359855\n",
       "2015-02-03    0.190098\n",
       "2015-02-04    0.663945\n",
       "2015-02-05    0.483934\n",
       "2015-02-06    0.123303\n",
       "2015-02-09    0.050487\n",
       "2015-02-10    0.492155\n",
       "2015-02-11    0.134065\n",
       "                ...   \n",
       "2015-11-20    0.525795\n",
       "2015-11-23    0.811282\n",
       "2015-11-24    0.199019\n",
       "2015-11-25    0.998832\n",
       "2015-11-26    0.625369\n",
       "2015-11-27    0.396525\n",
       "2015-11-30    0.880698\n",
       "2015-12-01    0.632358\n",
       "2015-12-02    0.862441\n",
       "2015-12-03    0.581552\n",
       "2015-12-04    0.472930\n",
       "2015-12-07    0.907326\n",
       "2015-12-08    0.216141\n",
       "2015-12-09    0.154482\n",
       "2015-12-10    0.335772\n",
       "2015-12-11    0.345144\n",
       "2015-12-14    0.576687\n",
       "2015-12-15    0.138527\n",
       "2015-12-16    0.532623\n",
       "2015-12-17    0.440407\n",
       "2015-12-18    0.440815\n",
       "2015-12-21    0.375409\n",
       "2015-12-22    0.186350\n",
       "2015-12-23    0.191871\n",
       "2015-12-24    0.769467\n",
       "2015-12-25    0.481019\n",
       "2015-12-28    0.267979\n",
       "2015-12-29    0.585781\n",
       "2015-12-30    0.059039\n",
       "2015-12-31    0.602370\n",
       "Freq: B, Length: 261, dtype: float64"
      ]
     },
     "execution_count": 87,
     "metadata": {},
     "output_type": "execute_result"
    }
   ],
   "source": [
    "#2\n",
    "import numpy as np\n",
    "datetimeindex = pd.date_range(start='2015-01-01', end='2015-12-31', freq='B') \n",
    "s = pd.Series(np.random.rand(len(datetimeindex)), index=datetimeindex)\n",
    "s"
   ]
  },
  {
   "cell_type": "code",
   "execution_count": 90,
   "metadata": {},
   "outputs": [
    {
     "data": {
      "text/plain": [
       "27.514960391272574"
      ]
     },
     "execution_count": 90,
     "metadata": {},
     "output_type": "execute_result"
    }
   ],
   "source": [
    "s[datetimeindex.weekday == 2].sum()"
   ]
  },
  {
   "cell_type": "code",
   "execution_count": 91,
   "metadata": {},
   "outputs": [
    {
     "data": {
      "text/plain": [
       "2015-01-31    0.556623\n",
       "2015-02-28    0.531776\n",
       "2015-03-31    0.615275\n",
       "2015-04-30    0.579691\n",
       "2015-05-31    0.569676\n",
       "2015-06-30    0.527786\n",
       "2015-07-31    0.600981\n",
       "2015-08-31    0.468943\n",
       "2015-09-30    0.490027\n",
       "2015-10-31    0.501020\n",
       "2015-11-30    0.498892\n",
       "2015-12-31    0.441587\n",
       "Freq: M, dtype: float64"
      ]
     },
     "execution_count": 91,
     "metadata": {},
     "output_type": "execute_result"
    }
   ],
   "source": [
    "s.resample('M').mean()"
   ]
  },
  {
   "cell_type": "code",
   "execution_count": 92,
   "metadata": {},
   "outputs": [
    {
     "data": {
      "text/plain": [
       "2015-01-31   2015-01-16\n",
       "2015-05-31   2015-04-02\n",
       "2015-09-30   2015-07-23\n",
       "2016-01-31   2015-11-25\n",
       "dtype: datetime64[ns]"
      ]
     },
     "execution_count": 92,
     "metadata": {},
     "output_type": "execute_result"
    }
   ],
   "source": [
    "s.groupby(pd.Grouper(freq='4M')).idxmax()"
   ]
  },
  {
   "cell_type": "code",
   "execution_count": null,
   "metadata": {},
   "outputs": [],
   "source": []
  }
 ],
 "metadata": {
  "kernelspec": {
   "display_name": "Python 3",
   "language": "python",
   "name": "python3"
  },
  "language_info": {
   "codemirror_mode": {
    "name": "ipython",
    "version": 3
   },
   "file_extension": ".py",
   "mimetype": "text/x-python",
   "name": "python",
   "nbconvert_exporter": "python",
   "pygments_lexer": "ipython3",
   "version": "3.6.4"
  }
 },
 "nbformat": 4,
 "nbformat_minor": 2
}
